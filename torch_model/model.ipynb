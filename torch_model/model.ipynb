{
 "cells": [
  {
   "cell_type": "code",
   "execution_count": 8,
   "metadata": {
    "ExecuteTime": {
     "end_time": "2020-07-21T14:10:14.796124Z",
     "start_time": "2020-07-21T14:10:14.784599Z"
    },
    "tags": []
   },
   "outputs": [],
   "source": [
    "import argparse\n",
    "import logging\n",
    "import os\n",
    "import time\n",
    "\n",
    "import dgl\n",
    "import dgl.function as fn\n",
    "import dgl.nn.pytorch as dglnn\n",
    "import networkx as nx\n",
    "import numpy as np\n",
    "import pandas as pd\n",
    "import scipy.sparse as ssp\n",
    "import torch\n",
    "import torch.nn as nn\n",
    "from tqdm import trange\n",
    "from sklearn.metrics import accuracy_score, f1_score, roc_auc_score"
   ]
  },
  {
   "cell_type": "code",
   "execution_count": 9,
   "metadata": {
    "ExecuteTime": {
     "end_time": "2020-07-21T14:10:19.015671Z",
     "start_time": "2020-07-21T14:10:15.691457Z"
    }
   },
   "outputs": [],
   "source": [
    "import sys\n",
    "sys.path.append(\"/nfs/zty/Graph/Dynamic-Graph\")\n",
    "sys.path.append(\".\")\n",
    "from data_loader.minibatch import load_data\n",
    "from model.utils import get_free_gpu"
   ]
  },
  {
   "cell_type": "code",
   "execution_count": 10,
   "metadata": {
    "ExecuteTime": {
     "end_time": "2020-07-21T14:10:19.964334Z",
     "start_time": "2020-07-21T14:10:19.907845Z"
    },
    "tags": []
   },
   "outputs": [
    {
     "output_type": "stream",
     "name": "stderr",
     "text": "INFO:root:Namespace(gpu=True)\n"
    },
    {
     "output_type": "execute_result",
     "data": {
      "text/plain": "<module 'util_dgl' from '/nfs/zty/Graph/Dynamic-Graph/torch_model/util_dgl.py'>"
     },
     "metadata": {},
     "execution_count": 10
    }
   ],
   "source": [
    "import importlib\n",
    "import util_dgl\n",
    "importlib.reload(util_dgl)\n",
    "# from util_dgl import test_graph, construct_dglgraph"
   ]
  },
  {
   "cell_type": "code",
   "execution_count": 11,
   "metadata": {
    "ExecuteTime": {
     "end_time": "2020-07-21T14:10:22.199347Z",
     "start_time": "2020-07-21T14:10:21.995398Z"
    },
    "tags": []
   },
   "outputs": [],
   "source": [
    "device = torch.device(\"cpu\")\n",
    "edges, nodes = util_dgl.test_graph()\n",
    "g = util_dgl.construct_dglgraph(edges, nodes, device)\n",
    "\n",
    "# logger.info(f\"Begin Conv. Device {device}\")\n",
    "dim = g.ndata[\"nfeat\"].shape[-1]\n",
    "dims = [dim, 108, 4]\n",
    "# for l in range(1, 3):\n",
    "l = 1\n",
    "# logger.info(f\"Graph Conv Layer {l}.\")\n",
    "model = util_dgl.TSAGEConv(in_feats=dims[l-1], out_feats=dims[l], aggregator_type=\"mean\")\n",
    "model = model.to(device)\n",
    "src_feat, dst_feat = model(g, current_layer=l)\n",
    "g.edata[f\"src_feat{l}\"] = src_feat\n",
    "g.edata[f\"dst_feat{l}\"] = dst_feat"
   ]
  },
  {
   "cell_type": "code",
   "execution_count": 12,
   "metadata": {
    "ExecuteTime": {
     "end_time": "2020-07-21T14:10:23.653587Z",
     "start_time": "2020-07-21T14:10:23.644234Z"
    },
    "tags": []
   },
   "outputs": [
    {
     "output_type": "stream",
     "name": "stdout",
     "text": "TSAGEConv(\n  (feat_drop): Dropout(p=0.0, inplace=False)\n  (fc_self): Linear(in_features=4, out_features=108, bias=True)\n  (fc_neigh): Linear(in_features=4, out_features=108, bias=True)\n)\n"
    }
   ],
   "source": [
    "print(model)"
   ]
  },
  {
   "cell_type": "code",
   "execution_count": 13,
   "metadata": {
    "ExecuteTime": {
     "end_time": "2020-07-21T14:20:55.788420Z",
     "start_time": "2020-07-21T14:20:55.772024Z"
    },
    "tags": []
   },
   "outputs": [],
   "source": [
    "from torchviz import make_dot\n",
    "dot = make_dot(src_feat)"
   ]
  },
  {
   "cell_type": "code",
   "execution_count": 14,
   "metadata": {
    "ExecuteTime": {
     "end_time": "2020-07-21T14:21:21.512240Z",
     "start_time": "2020-07-21T14:21:21.212086Z"
    },
    "tags": []
   },
   "outputs": [
    {
     "output_type": "stream",
     "name": "stderr",
     "text": "DEBUG:graphviz.files:write 18625 bytes to 'two-layer-conv'\nDEBUG:graphviz.backend:run ['dot', '-Tpdf', '-O', 'two-layer-conv']\nDEBUG:graphviz.backend:view: ['xdg-open', 'two-layer-conv.pdf']\n"
    },
    {
     "output_type": "execute_result",
     "data": {
      "text/plain": "'two-layer-conv.pdf'"
     },
     "metadata": {},
     "execution_count": 14
    }
   ],
   "source": [
    "dot.render('two-layer-conv', view=True) "
   ]
  },
  {
   "cell_type": "code",
   "execution_count": null,
   "metadata": {},
   "outputs": [],
   "source": []
  }
 ],
 "metadata": {
  "kernelspec": {
   "display_name": "Python 3.6.10 64-bit ('torch': conda)",
   "language": "python",
   "name": "python361064bittorchconda04cad82f890446768c932663666f3c77"
  },
  "language_info": {
   "codemirror_mode": {
    "name": "ipython",
    "version": 3
   },
   "file_extension": ".py",
   "mimetype": "text/x-python",
   "name": "python",
   "nbconvert_exporter": "python",
   "pygments_lexer": "ipython3",
   "version": "3.6.10-final"
  }
 },
 "nbformat": 4,
 "nbformat_minor": 2
}